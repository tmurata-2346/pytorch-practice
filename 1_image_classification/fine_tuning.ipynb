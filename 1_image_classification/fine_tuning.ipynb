{
 "cells": [
  {
   "cell_type": "markdown",
   "id": "superior-cricket",
   "metadata": {},
   "source": [
    "#  ファインチューニング"
   ]
  },
  {
   "cell_type": "markdown",
   "id": "optional-singapore",
   "metadata": {},
   "source": [
    "## ライブラリーのインポート"
   ]
  },
  {
   "cell_type": "code",
   "execution_count": 1,
   "id": "velvet-litigation",
   "metadata": {},
   "outputs": [],
   "source": [
    "import numpy as np\n",
    "import random\n",
    "\n",
    "import torch\n",
    "import torch.nn  as nn\n",
    "import torch.optim as optim \n",
    "\n",
    "from torchvision import models\n",
    "\n",
    "from tqdm import tqdm"
   ]
  },
  {
   "cell_type": "code",
   "execution_count": 2,
   "id": "early-offer",
   "metadata": {},
   "outputs": [],
   "source": [
    "# 乱数のシードを固定\n",
    "torch.manual_seed(1234)\n",
    "np.random.seed(1234)\n",
    "random.seed(1234)"
   ]
  },
  {
   "cell_type": "markdown",
   "id": "lovely-civilization",
   "metadata": {},
   "source": [
    "## DatasetとDataLoaderを作成"
   ]
  },
  {
   "cell_type": "code",
   "execution_count": 4,
   "id": "matched-nevada",
   "metadata": {},
   "outputs": [
    {
     "name": "stdout",
     "output_type": "stream",
     "text": [
      "./data/hymenoptera_data/train/**/*.jpg\n",
      "./data/hymenoptera_data/val/**/*.jpg\n"
     ]
    }
   ],
   "source": [
    "# 1.3節で作成したクラスを同じフォルダにあるmake_dataset_dataloader.pyに記載して使用\n",
    "from utils.dataloader_image_classification import ImageTransform, make_datapath_list, HymenopteraDataset\n",
    "\n",
    "# アリとハチの画像へのファイルパスのリストを作成する\n",
    "train_list = make_datapath_list(phase=\"train\")\n",
    "val_list = make_datapath_list(phase=\"val\")\n",
    "\n",
    "# Datasetを作成する\n",
    "size = 224\n",
    "mean = (0.485, 0.456, 0.406)\n",
    "std = (0.229, 0.224, 0.225)\n",
    "train_dataset = HymenopteraDataset(\n",
    "    file_list=train_list, transform=ImageTransform(size, mean, std), phase='train')\n",
    "\n",
    "val_dataset = HymenopteraDataset(\n",
    "    file_list=val_list, transform=ImageTransform(size, mean, std), phase='val')\n",
    "\n",
    "#DataLoaderを作成する\n",
    "batch_size = 32\n",
    "\n",
    "train_dataloader = torch.utils.data.DataLoader(\n",
    "    train_dataset , batch_size=batch_size , shuffle=True)\n",
    "\n",
    "val_dataloader = torch.utils.data.DataLoader(\n",
    "    val_dataset, batch_size=batch_size, shuffle=False)\n",
    "\n",
    "# 辞書オブジェクトにまとめる\n",
    "dataloarders_dict = {\"ttain\": train_dataloader , \"val\" : val_dataloader}"
   ]
  },
  {
   "cell_type": "markdown",
   "id": "furnished-semester",
   "metadata": {},
   "source": [
    "## ネットワークモデルの作成"
   ]
  },
  {
   "cell_type": "code",
   "execution_count": 6,
   "id": "significant-retro",
   "metadata": {},
   "outputs": [
    {
     "name": "stdout",
     "output_type": "stream",
     "text": [
      "ネットワーク設定完了：学習済の重みをロードし、訓練モードに設定しました\n"
     ]
    }
   ],
   "source": [
    "# 学習済のVGG-16モデルをロード\n",
    "\n",
    "# VGG-16モデルのインスタンスを生成\n",
    "use_pretrained =True #学習済のパラメータを使用\n",
    "net = models.vgg16(pretrained = use_pretrained)\n",
    "\n",
    "# VGG16の最後の出力層の出力ユニットをアリとハチの2つに付け替える\n",
    "net.classifier[6]=nn.Linear(in_features=4096,out_features=2)\n",
    "\n",
    "# 訓練モードに設定\n",
    "net.train()\n",
    "\n",
    "print('ネットワーク設定完了：学習済の重みをロードし、訓練モードに設定しました')\n"
   ]
  },
  {
   "cell_type": "markdown",
   "id": "spectacular-citation",
   "metadata": {},
   "source": [
    "## 損失関数を定義"
   ]
  },
  {
   "cell_type": "code",
   "execution_count": 7,
   "id": "senior-traveler",
   "metadata": {},
   "outputs": [],
   "source": [
    "# 損失関数の設定\n",
    "criterion = nn.CrossEntropyLoss()"
   ]
  },
  {
   "cell_type": "markdown",
   "id": "described-rotation",
   "metadata": {},
   "source": [
    "## 最適化手法を設定"
   ]
  },
  {
   "cell_type": "code",
   "execution_count": 10,
   "id": "subsequent-theater",
   "metadata": {},
   "outputs": [
    {
     "name": "stdout",
     "output_type": "stream",
     "text": [
      "params_to_updata_1に格納： features.0.weight\n",
      "params_to_updata_1に格納： features.0.bias\n",
      "params_to_updata_1に格納： features.2.weight\n",
      "params_to_updata_1に格納： features.2.bias\n",
      "params_to_updata_1に格納： features.5.weight\n",
      "params_to_updata_1に格納： features.5.bias\n",
      "params_to_updata_1に格納： features.7.weight\n",
      "params_to_updata_1に格納： features.7.bias\n",
      "params_to_updata_1に格納： features.10.weight\n",
      "params_to_updata_1に格納： features.10.bias\n",
      "params_to_updata_1に格納： features.12.weight\n",
      "params_to_updata_1に格納： features.12.bias\n",
      "params_to_updata_1に格納： features.14.weight\n",
      "params_to_updata_1に格納： features.14.bias\n",
      "params_to_updata_1に格納： features.17.weight\n",
      "params_to_updata_1に格納： features.17.bias\n",
      "params_to_updata_1に格納： features.19.weight\n",
      "params_to_updata_1に格納： features.19.bias\n",
      "params_to_updata_1に格納： features.21.weight\n",
      "params_to_updata_1に格納： features.21.bias\n",
      "params_to_updata_1に格納： features.24.weight\n",
      "params_to_updata_1に格納： features.24.bias\n",
      "params_to_updata_1に格納： features.26.weight\n",
      "params_to_updata_1に格納： features.26.bias\n",
      "params_to_updata_1に格納： features.28.weight\n",
      "params_to_updata_1に格納： features.28.bias\n",
      "params_to_updata_2に格納： classifier.0.weight\n",
      "params_to_updata_2に格納： classifier.0.bias\n",
      "params_to_updata_2に格納： classifier.3.weight\n",
      "params_to_updata_2に格納： classifier.3.bias\n",
      "params_to_updata_3に格納： classifier.6.weight\n",
      "勾配計算なし。学習しない： classifier.6.bias\n"
     ]
    }
   ],
   "source": [
    "#  ファインチューニングで学習させるパラメータを、変数params_to_updateの1〜3に格納する\n",
    "\n",
    "params_to_update_1 = []\n",
    "params_to_update_2 = []\n",
    "params_to_update_3 = []\n",
    "\n",
    "# 学習させる層のパラメータ名を指定\n",
    "update_param_names_1 = [\"features\"]\n",
    "update_param_names_2 = [\"classifier.0.weight\" , \n",
    "                                                  \"classifier.0.bias\" , \"classifier.3.weight\" , \"classifier.3.bias\"]\n",
    "update_param_names_3 = [\"classifier.6.weight\" , \"classifier.6.biass\"]\n",
    "\n",
    "#  パラメータごとに各リストに格納する\n",
    "for name , param in net.named_parameters():\n",
    "    if update_param_names_1[0] in name:\n",
    "        param.requiers_grad = True\n",
    "        params_to_update_1.append(param)\n",
    "        print(\"params_to_updata_1に格納：\" , name)\n",
    "        \n",
    "    elif name in update_param_names_2:\n",
    "        param.requiers_grad = True\n",
    "        params_to_update_2.append(param)\n",
    "        print(\"params_to_updata_2に格納：\" , name)\n",
    "    \n",
    "    elif name in update_param_names_3:\n",
    "        param.requiers_grad = True\n",
    "        params_to_update_3.append(param)\n",
    "        print(\"params_to_updata_3に格納：\" , name)\n",
    "        \n",
    "    else:\n",
    "        param.requires_grad = False\n",
    "        print(\"勾配計算なし。学習しない：\" , name)\n",
    "    \n",
    "\n"
   ]
  },
  {
   "cell_type": "code",
   "execution_count": 12,
   "id": "described-complexity",
   "metadata": {},
   "outputs": [],
   "source": [
    "#  最適化手法の設定\n",
    "optimizer = optim.SGD([\n",
    "    {'params': params_to_update_1 , 'lr' : 1e-4},\n",
    "    {'params': params_to_update_2 , 'lr' : 5e-4},\n",
    "    {'params': params_to_update_3 , 'lr' : 1e-3}  \n",
    "] , momentum=0.9)"
   ]
  },
  {
   "cell_type": "markdown",
   "id": "engaging-tsunami",
   "metadata": {},
   "source": [
    "## 学習・検証の実施"
   ]
  },
  {
   "cell_type": "code",
   "execution_count": null,
   "id": "worthy-doctrine",
   "metadata": {},
   "outputs": [],
   "source": []
  }
 ],
 "metadata": {
  "kernelspec": {
   "display_name": "Python 3",
   "language": "python",
   "name": "python3"
  },
  "language_info": {
   "codemirror_mode": {
    "name": "ipython",
    "version": 3
   },
   "file_extension": ".py",
   "mimetype": "text/x-python",
   "name": "python",
   "nbconvert_exporter": "python",
   "pygments_lexer": "ipython3",
   "version": "3.9.2"
  }
 },
 "nbformat": 4,
 "nbformat_minor": 5
}
