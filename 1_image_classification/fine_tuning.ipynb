{
 "cells": [
  {
   "cell_type": "markdown",
   "id": "dimensional-editor",
   "metadata": {},
   "source": [
    "#  ファインチューニング"
   ]
  },
  {
   "cell_type": "markdown",
   "id": "peripheral-destination",
   "metadata": {},
   "source": [
    "## ライブラリーのインポート"
   ]
  },
  {
   "cell_type": "code",
   "execution_count": 1,
   "id": "herbal-evaluation",
   "metadata": {},
   "outputs": [],
   "source": [
    "import numpy as np\n",
    "import random\n",
    "\n",
    "import torch\n",
    "import torch.nn  as nn\n",
    "import torch.optim as optim \n",
    "\n",
    "from torchvision import models\n",
    "\n",
    "from tqdm import tqdm"
   ]
  },
  {
   "cell_type": "code",
   "execution_count": 2,
   "id": "certified-welcome",
   "metadata": {},
   "outputs": [],
   "source": [
    "# 乱数のシードを固定\n",
    "torch.manual_seed(1234)\n",
    "np.random.seed(1234)\n",
    "random.seed(1234)"
   ]
  },
  {
   "cell_type": "markdown",
   "id": "personal-requirement",
   "metadata": {},
   "source": [
    "## DatasetとDataLoaderを作成"
   ]
  },
  {
   "cell_type": "code",
   "execution_count": 27,
   "id": "confused-sample",
   "metadata": {},
   "outputs": [
    {
     "name": "stdout",
     "output_type": "stream",
     "text": [
      "./data/hymenoptera_data/train/**/*.jpg\n",
      "./data/hymenoptera_data/val/**/*.jpg\n"
     ]
    }
   ],
   "source": [
    "# 1.3節で作成したクラスを同じフォルダにあるmake_dataset_dataloader.pyに記載して使用\n",
    "from utils.dataloader_image_classification import ImageTransform, make_datapath_list, HymenopteraDataset\n",
    "\n",
    "# アリとハチの画像へのファイルパスのリストを作成する\n",
    "train_list = make_datapath_list(phase=\"train\")\n",
    "val_list = make_datapath_list(phase=\"val\")\n",
    "\n",
    "# Datasetを作成する\n",
    "size = 224\n",
    "mean = (0.485, 0.456, 0.406)\n",
    "std = (0.229, 0.224, 0.225)\n",
    "train_dataset = HymenopteraDataset(\n",
    "    file_list=train_list, transform=ImageTransform(size, mean, std), phase='train')\n",
    "\n",
    "val_dataset = HymenopteraDataset(\n",
    "    file_list=val_list, transform=ImageTransform(size, mean, std), phase='val')\n",
    "\n",
    "#DataLoaderを作成する\n",
    "batch_size = 32\n",
    "\n",
    "train_dataloader = torch.utils.data.DataLoader(\n",
    "    train_dataset , batch_size=batch_size , shuffle=True)\n",
    "\n",
    "val_dataloader = torch.utils.data.DataLoader(\n",
    "    val_dataset, batch_size=batch_size, shuffle=False)\n",
    "\n",
    "# 辞書オブジェクトにまとめる\n",
    "dataloaders_dict = {\"train\": train_dataloader , \"val\" : val_dataloader}"
   ]
  },
  {
   "cell_type": "markdown",
   "id": "biological-adventure",
   "metadata": {},
   "source": [
    "## ネットワークモデルの作成"
   ]
  },
  {
   "cell_type": "code",
   "execution_count": 6,
   "id": "hindu-transformation",
   "metadata": {},
   "outputs": [
    {
     "name": "stdout",
     "output_type": "stream",
     "text": [
      "ネットワーク設定完了：学習済の重みをロードし、訓練モードに設定しました\n"
     ]
    }
   ],
   "source": [
    "# 学習済のVGG-16モデルをロード\n",
    "\n",
    "# VGG-16モデルのインスタンスを生成\n",
    "use_pretrained =True #学習済のパラメータを使用\n",
    "net = models.vgg16(pretrained = use_pretrained)\n",
    "\n",
    "# VGG16の最後の出力層の出力ユニットをアリとハチの2つに付け替える\n",
    "net.classifier[6]=nn.Linear(in_features=4096,out_features=2)\n",
    "\n",
    "# 訓練モードに設定\n",
    "net.train()\n",
    "\n",
    "print('ネットワーク設定完了：学習済の重みをロードし、訓練モードに設定しました')\n"
   ]
  },
  {
   "cell_type": "markdown",
   "id": "contrary-greene",
   "metadata": {},
   "source": [
    "## 損失関数を定義"
   ]
  },
  {
   "cell_type": "code",
   "execution_count": 7,
   "id": "comfortable-penalty",
   "metadata": {},
   "outputs": [],
   "source": [
    "# 損失関数の設定\n",
    "criterion = nn.CrossEntropyLoss()"
   ]
  },
  {
   "cell_type": "markdown",
   "id": "female-nerve",
   "metadata": {},
   "source": [
    "## 最適化手法を設定"
   ]
  },
  {
   "cell_type": "code",
   "execution_count": 10,
   "id": "stuck-drink",
   "metadata": {},
   "outputs": [
    {
     "name": "stdout",
     "output_type": "stream",
     "text": [
      "params_to_updata_1に格納： features.0.weight\n",
      "params_to_updata_1に格納： features.0.bias\n",
      "params_to_updata_1に格納： features.2.weight\n",
      "params_to_updata_1に格納： features.2.bias\n",
      "params_to_updata_1に格納： features.5.weight\n",
      "params_to_updata_1に格納： features.5.bias\n",
      "params_to_updata_1に格納： features.7.weight\n",
      "params_to_updata_1に格納： features.7.bias\n",
      "params_to_updata_1に格納： features.10.weight\n",
      "params_to_updata_1に格納： features.10.bias\n",
      "params_to_updata_1に格納： features.12.weight\n",
      "params_to_updata_1に格納： features.12.bias\n",
      "params_to_updata_1に格納： features.14.weight\n",
      "params_to_updata_1に格納： features.14.bias\n",
      "params_to_updata_1に格納： features.17.weight\n",
      "params_to_updata_1に格納： features.17.bias\n",
      "params_to_updata_1に格納： features.19.weight\n",
      "params_to_updata_1に格納： features.19.bias\n",
      "params_to_updata_1に格納： features.21.weight\n",
      "params_to_updata_1に格納： features.21.bias\n",
      "params_to_updata_1に格納： features.24.weight\n",
      "params_to_updata_1に格納： features.24.bias\n",
      "params_to_updata_1に格納： features.26.weight\n",
      "params_to_updata_1に格納： features.26.bias\n",
      "params_to_updata_1に格納： features.28.weight\n",
      "params_to_updata_1に格納： features.28.bias\n",
      "params_to_updata_2に格納： classifier.0.weight\n",
      "params_to_updata_2に格納： classifier.0.bias\n",
      "params_to_updata_2に格納： classifier.3.weight\n",
      "params_to_updata_2に格納： classifier.3.bias\n",
      "params_to_updata_3に格納： classifier.6.weight\n",
      "勾配計算なし。学習しない： classifier.6.bias\n"
     ]
    }
   ],
   "source": [
    "#  ファインチューニングで学習させるパラメータを、変数params_to_updateの1〜3に格納する\n",
    "\n",
    "params_to_update_1 = []\n",
    "params_to_update_2 = []\n",
    "params_to_update_3 = []\n",
    "\n",
    "# 学習させる層のパラメータ名を指定\n",
    "update_param_names_1 = [\"features\"]\n",
    "update_param_names_2 = [\"classifier.0.weight\" , \n",
    "                                                  \"classifier.0.bias\" , \"classifier.3.weight\" , \"classifier.3.bias\"]\n",
    "update_param_names_3 = [\"classifier.6.weight\" , \"classifier.6.biass\"]\n",
    "\n",
    "#  パラメータごとに各リストに格納する\n",
    "for name , param in net.named_parameters():\n",
    "    if update_param_names_1[0] in name:\n",
    "        param.requiers_grad = True\n",
    "        params_to_update_1.append(param)\n",
    "        print(\"params_to_updata_1に格納：\" , name)\n",
    "        \n",
    "    elif name in update_param_names_2:\n",
    "        param.requiers_grad = True\n",
    "        params_to_update_2.append(param)\n",
    "        print(\"params_to_updata_2に格納：\" , name)\n",
    "    \n",
    "    elif name in update_param_names_3:\n",
    "        param.requiers_grad = True\n",
    "        params_to_update_3.append(param)\n",
    "        print(\"params_to_updata_3に格納：\" , name)\n",
    "        \n",
    "    else:\n",
    "        param.requires_grad = False\n",
    "        print(\"勾配計算なし。学習しない：\" , name)\n",
    "    \n",
    "\n"
   ]
  },
  {
   "cell_type": "code",
   "execution_count": 12,
   "id": "resident-savings",
   "metadata": {},
   "outputs": [],
   "source": [
    "#  最適化手法の設定\n",
    "optimizer = optim.SGD([\n",
    "    {'params': params_to_update_1 , 'lr' : 1e-4},\n",
    "    {'params': params_to_update_2 , 'lr' : 5e-4},\n",
    "    {'params': params_to_update_3 , 'lr' : 1e-3}  \n",
    "] , momentum=0.9)"
   ]
  },
  {
   "cell_type": "markdown",
   "id": "refined-allocation",
   "metadata": {},
   "source": [
    "## 学習・検証の実施"
   ]
  },
  {
   "cell_type": "code",
   "execution_count": 30,
   "id": "failing-balance",
   "metadata": {},
   "outputs": [],
   "source": [
    "# モデルを学習させる関数を作成\n",
    "\n",
    "def train_model(net , dataloaders_dict , criterion , optimizer , num_epochs):\n",
    "    \n",
    "    #初期設定\n",
    "    #GPUが使えるか確認\n",
    "    device = torch.device(\"cuda : 0\"  if torch.cuda.is_available() else \"cpu\")\n",
    "    print(\"使用デバイス：\", device)\n",
    "    \n",
    "    #ネットワークをGPUへ\n",
    "    net.to(device)\n",
    "    \n",
    "    #ネットワークがある程度固定であれば、高速化させる\n",
    "    torch.backends.cudnn.benchmark  = True\n",
    "    \n",
    "    #epochのループ\n",
    "    for epoch in range(num_epochs):\n",
    "        print('Epoch {}/{}'.format(epoch+1 ,num_epochs))\n",
    "        print('----------------')\n",
    "        \n",
    "        #epochごとの訓練と検証のループ\n",
    "        for phase in ['train' , 'val']:\n",
    "            if phase =='train':\n",
    "                net.train()  #モデルを訓練モードに\n",
    "            else:\n",
    "                net.eval()   #モデルを検証モードに\n",
    "                \n",
    "            epoch_loss = 0.0  #epochの損失和\n",
    "            epoch_corrects = 0 #epochの正解数\n",
    "            \n",
    "            \n",
    "            # 未検証時の検証性能を確かめるため、epoch=0の訓練は省略\n",
    "            if (epoch == 0) and (phase == 'train'):\n",
    "                continue\n",
    "                \n",
    "            #データローダーからミニバッチを取り出すループ\n",
    "            for inputs , labels in tqdm(dataloaders_dict[phase]):\n",
    "                \n",
    "                \n",
    "                #GPUが使えるならGPUへデータを送る\n",
    "                inputs = inputs.to(device)\n",
    "                labels = labels.to(device)\n",
    "                \n",
    "                # optimizerを初期化\n",
    "                optimizer.zero_grad()\n",
    "                \n",
    "                #順伝搬(forward)計算\n",
    "                with torch.set_grad_enabled(phase == 'train'):\n",
    "                    outputs = net(inputs)\n",
    "                    loss = criterion(outputs, labels) #損失を計算\n",
    "                    _, preds = torch.max(outputs ,1)  #ラベルを予測\n",
    "                    \n",
    "                    #訓練時はバックププロパゲーション\n",
    "                    if phase == 'train':\n",
    "                        loss.backward()\n",
    "                        optimizer.step()\n",
    "                        \n",
    "                    #結果の計算\n",
    "                    epoch_loss += loss.item() * inputs.size(0) #lossの合計を更新\n",
    "                    #正解の合計を更新\n",
    "                    epoch_corrects  += torch.sum(preds == labels.data)\n",
    "                    \n",
    "            #epochごとのlossと正解率を表示\n",
    "            epoch_loss = epoch_loss / len(dataloaders_dict[phase].dataset)\n",
    "            epoch_acc = epoch_corrects.double() / len(dataloaders_dict[phase].dataset)\n",
    "            \n",
    "            print('{} Loss  {:.4f}  Acc:{:.4f}'.format(phase , epoch_loss ,epoch_acc))\n",
    "                \n",
    "                \n",
    "                "
   ]
  },
  {
   "cell_type": "code",
   "execution_count": 31,
   "id": "advanced-waters",
   "metadata": {},
   "outputs": [
    {
     "name": "stderr",
     "output_type": "stream",
     "text": [
      "\r",
      "  0%|          | 0/5 [00:00<?, ?it/s]"
     ]
    },
    {
     "name": "stdout",
     "output_type": "stream",
     "text": [
      "使用デバイス： cpu\n",
      "Epoch 1/2\n",
      "----------------\n"
     ]
    },
    {
     "name": "stderr",
     "output_type": "stream",
     "text": [
      "100%|██████████| 5/5 [00:15<00:00,  3.07s/it]\n",
      "  0%|          | 0/8 [00:00<?, ?it/s]"
     ]
    },
    {
     "name": "stdout",
     "output_type": "stream",
     "text": [
      "val Loss  0.7704  Acc:0.4444\n",
      "Epoch 2/2\n",
      "----------------\n"
     ]
    },
    {
     "name": "stderr",
     "output_type": "stream",
     "text": [
      "100%|██████████| 8/8 [02:15<00:00, 16.94s/it]\n",
      "  0%|          | 0/5 [00:00<?, ?it/s]"
     ]
    },
    {
     "name": "stdout",
     "output_type": "stream",
     "text": [
      "train Loss  0.4824  Acc:0.7202\n"
     ]
    },
    {
     "name": "stderr",
     "output_type": "stream",
     "text": [
      "100%|██████████| 5/5 [00:14<00:00,  2.97s/it]"
     ]
    },
    {
     "name": "stdout",
     "output_type": "stream",
     "text": [
      "val Loss  0.1693  Acc:0.9542\n"
     ]
    },
    {
     "name": "stderr",
     "output_type": "stream",
     "text": [
      "\n"
     ]
    }
   ],
   "source": [
    "# 学習・検証を実行する\n",
    "num_epochs = 2\n",
    "train_model(net ,dataloaders_dict , criterion , optimizer , num_epochs=num_epochs)"
   ]
  },
  {
   "cell_type": "markdown",
   "id": "empirical-fluid",
   "metadata": {},
   "source": [
    "## 学習したネットワークを保存・ロード"
   ]
  },
  {
   "cell_type": "code",
   "execution_count": 32,
   "id": "pediatric-lesson",
   "metadata": {},
   "outputs": [],
   "source": [
    "# PyTorchのネットワークパラメータをの保存\n",
    "save_path = './weights_fine_tuning.pth'\n",
    "torch.save(net.state_dict() , save_path)"
   ]
  },
  {
   "cell_type": "code",
   "execution_count": 33,
   "id": "inclusive-cruise",
   "metadata": {},
   "outputs": [
    {
     "data": {
      "text/plain": [
       "<All keys matched successfully>"
      ]
     },
     "execution_count": 33,
     "metadata": {},
     "output_type": "execute_result"
    }
   ],
   "source": [
    "# PyTorchのネットワークパラメータのロード\n",
    "load_path = './weights_fine_tuning.pth'\n",
    "load_weights = torch.load(load_path)\n",
    "net.load_state_dict(load_weights)\n",
    "\n",
    "#GPU上で保存された重みをCPU上でロードする場合\n",
    "load_weights = torch.load(load_path ,map_location={'cuda:0' : 'cpu'})\n",
    "net.load_state_dict(load_weights)"
   ]
  }
 ],
 "metadata": {
  "kernelspec": {
   "display_name": "Python 3",
   "language": "python",
   "name": "python3"
  },
  "language_info": {
   "codemirror_mode": {
    "name": "ipython",
    "version": 3
   },
   "file_extension": ".py",
   "mimetype": "text/x-python",
   "name": "python",
   "nbconvert_exporter": "python",
   "pygments_lexer": "ipython3",
   "version": "3.9.2"
  }
 },
 "nbformat": 4,
 "nbformat_minor": 5
}
